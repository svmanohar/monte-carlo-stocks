{
  "nbformat": 4,
  "nbformat_minor": 0,
  "metadata": {
    "colab": {
      "provenance": [],
      "include_colab_link": true
    },
    "kernelspec": {
      "name": "python3",
      "display_name": "Python 3"
    },
    "language_info": {
      "name": "python"
    }
  },
  "cells": [
    {
      "cell_type": "markdown",
      "metadata": {
        "id": "view-in-github",
        "colab_type": "text"
      },
      "source": [
        "<a href=\"https://colab.research.google.com/github/svmanohar/monte-carlo-stocks/blob/main/Monte%20Carlo%20Stock%20Simulation.ipynb\" target=\"_parent\"><img src=\"https://colab.research.google.com/assets/colab-badge.svg\" alt=\"Open In Colab\"/></a>"
      ]
    },
    {
      "cell_type": "markdown",
      "source": [
        "\n",
        "\n",
        "```\n",
        "# This is formatted as code\n",
        "```\n",
        "\n",
        "# New Section"
      ],
      "metadata": {
        "id": "1PYW4TcoBelr"
      }
    },
    {
      "cell_type": "code",
      "source": [
        "import pandas as pd\n",
        "import numpy as np\n",
        "import seaborn as sns\n",
        "from matplotlib import pyplot as plt"
      ],
      "metadata": {
        "id": "ZjVXi-yIdOJV"
      },
      "execution_count": 70,
      "outputs": []
    },
    {
      "cell_type": "code",
      "source": [
        "import yfinance as yf\n",
        "AMZN=yf.Ticker(\"LMT\")\n",
        "hist = AMZN.history(period=\"max\")\n",
        "hist = hist.loc[(hist.index >='2022-01-01') & (hist.index <='2022-12-31')]\n",
        "# hist = hist.loc[(hist.index >='2022-01-01')"
      ],
      "metadata": {
        "id": "rjyrwLaAOxrK"
      },
      "execution_count": 71,
      "outputs": []
    },
    {
      "cell_type": "code",
      "source": [
        "# Define Steve's starting capital to invest\n",
        "starting_capital = 10000"
      ],
      "metadata": {
        "id": "r36TjcfOCzBH"
      },
      "execution_count": 72,
      "outputs": []
    },
    {
      "cell_type": "code",
      "source": [
        "# amazon_df['Date'] = amazon_df['Date'].astype('datetime64')"
      ],
      "metadata": {
        "id": "b81ATLcqFeww"
      },
      "execution_count": 73,
      "outputs": []
    },
    {
      "cell_type": "code",
      "source": [
        "#convert to prices to returns\n",
        "hist['log_returns'] = np.log(hist['Close'])\n",
        "hist['log_returns']"
      ],
      "metadata": {
        "colab": {
          "base_uri": "https://localhost:8080/"
        },
        "id": "cnZ5PMUQz5dj",
        "outputId": "dec52d58-49e8-4dc1-9a1e-c85ad1fa5f03"
      },
      "execution_count": 74,
      "outputs": [
        {
          "output_type": "execute_result",
          "data": {
            "text/plain": [
              "Date\n",
              "2022-01-03 00:00:00-05:00    5.838117\n",
              "2022-01-04 00:00:00-05:00    5.859420\n",
              "2022-01-05 00:00:00-05:00    5.848728\n",
              "2022-01-06 00:00:00-05:00    5.848337\n",
              "2022-01-07 00:00:00-05:00    5.854297\n",
              "                               ...   \n",
              "2022-12-23 00:00:00-05:00    6.174341\n",
              "2022-12-27 00:00:00-05:00    6.178903\n",
              "2022-12-28 00:00:00-05:00    6.174196\n",
              "2022-12-29 00:00:00-05:00    6.182090\n",
              "2022-12-30 00:00:00-05:00    6.180940\n",
              "Name: log_returns, Length: 251, dtype: float64"
            ]
          },
          "metadata": {},
          "execution_count": 74
        }
      ]
    },
    {
      "cell_type": "code",
      "source": [
        "#plotting distribution of returns\n",
        "sns.distplot(hist['log_returns'])\n",
        "plt.xlabel(\"Daily Return\")\n",
        "plt.ylabel(\"Frequency\")"
      ],
      "metadata": {
        "colab": {
          "base_uri": "https://localhost:8080/",
          "height": 660
        },
        "id": "gkDQmBslT3DK",
        "outputId": "ca65e892-38e8-4968-fa26-9c046f2e6468"
      },
      "execution_count": 75,
      "outputs": [
        {
          "output_type": "stream",
          "name": "stderr",
          "text": [
            "<ipython-input-75-da80177aba3d>:2: UserWarning: \n",
            "\n",
            "`distplot` is a deprecated function and will be removed in seaborn v0.14.0.\n",
            "\n",
            "Please adapt your code to use either `displot` (a figure-level function with\n",
            "similar flexibility) or `histplot` (an axes-level function for histograms).\n",
            "\n",
            "For a guide to updating your code to use the new functions, please see\n",
            "https://gist.github.com/mwaskom/de44147ed2974457ad6372750bbe5751\n",
            "\n",
            "  sns.distplot(hist['log_returns'])\n"
          ]
        },
        {
          "output_type": "execute_result",
          "data": {
            "text/plain": [
              "Text(0, 0.5, 'Frequency')"
            ]
          },
          "metadata": {},
          "execution_count": 75
        },
        {
          "output_type": "display_data",
          "data": {
            "text/plain": [
              "<Figure size 640x480 with 1 Axes>"
            ],
            "image/png": "[encoded data removed]"
          },
          "metadata": {}
        }
      ]
    },
    {
      "cell_type": "code",
      "source": [
        "# amazon_df['log_returns'] = np.log(amazon_df['Adj Close'])\n",
        "# amazon_df['log_returns']"
      ],
      "metadata": {
        "id": "Ah2xlqQRHPaz"
      },
      "execution_count": 76,
      "outputs": []
    },
    {
      "cell_type": "code",
      "source": [
        "# Calculate drift and volatility\n",
        "drift = np.mean(hist['log_returns'])\n",
        "volatility = np.std(hist['log_returns'])"
      ],
      "metadata": {
        "id": "jdxZN3MrJGRs"
      },
      "execution_count": 77,
      "outputs": []
    },
    {
      "cell_type": "code",
      "source": [
        "drift"
      ],
      "metadata": {
        "colab": {
          "base_uri": "https://localhost:8080/"
        },
        "id": "85yxVg-PKD0V",
        "outputId": "dbb51254-6d07-42f6-eb2d-a17a3b1b354c"
      },
      "execution_count": 78,
      "outputs": [
        {
          "output_type": "execute_result",
          "data": {
            "text/plain": [
              "6.0447350559323745"
            ]
          },
          "metadata": {},
          "execution_count": 78
        }
      ]
    },
    {
      "cell_type": "code",
      "source": [
        "volatility"
      ],
      "metadata": {
        "colab": {
          "base_uri": "https://localhost:8080/"
        },
        "id": "cURHlNfDKG7L",
        "outputId": "a967c60d-c81c-4667-f5cb-849a7e626c4f"
      },
      "execution_count": 79,
      "outputs": [
        {
          "output_type": "execute_result",
          "data": {
            "text/plain": [
              "0.0836031133867146"
            ]
          },
          "metadata": {},
          "execution_count": 79
        }
      ]
    },
    {
      "cell_type": "markdown",
      "source": [
        "# IN USE"
      ],
      "metadata": {
        "id": "0UqT0Ye20Mmp"
      }
    },
    {
      "cell_type": "code",
      "source": [
        "stock_price = hist['Close'].iloc[-1] # initial stock price\n",
        "# stock_price = 127.82"
      ],
      "metadata": {
        "id": "ZG57-M9X0RoW"
      },
      "execution_count": 80,
      "outputs": []
    },
    {
      "cell_type": "code",
      "source": [
        "print(stock_price)"
      ],
      "metadata": {
        "colab": {
          "base_uri": "https://localhost:8080/"
        },
        "id": "5YxItA73vMe3",
        "outputId": "ba36c8cf-2f34-4361-dc18-741ff42bcb9a"
      },
      "execution_count": 81,
      "outputs": [
        {
          "output_type": "stream",
          "name": "stdout",
          "text": [
            "483.4461975097656\n"
          ]
        }
      ]
    },
    {
      "cell_type": "code",
      "source": [
        "# Define the simulation parameters\n",
        "# stock_price = 127.82\n",
        "number_simulations = 1000 # number of simulations\n",
        "interest_rate = 0.05 # risk-free interest rate, instead of using drift\n",
        "# see \"risk-neutral assumption\"\n",
        "time_period = 365/365 # time period in years\n",
        "\n",
        "# Define the GBM model\n",
        "def simulate_stock_price(stock_price, interest_rate, volatility, time_period):\n",
        "    dt = 1/365 # time step, so price for one day\n",
        "    n_steps = int(time_period/dt) # number of time steps\n",
        "    t = np.linspace(0, time_period, n_steps+1) # time vector\n",
        "    dW = np.random.normal(size=n_steps) # random numbers for Brownian motion\n",
        "\n",
        "    # note we can swap in drift for interest_rate here if we think there is substantial drift\n",
        "    dX = (interest_rate - 0.5*volatility**2)*dt + volatility*dW*np.sqrt(dt) # random numbers for GBM\n",
        "    log_price = np.log(stock_price) + np.cumsum(dX) # simulate the logarithm of the stock price\n",
        "    price = np.exp(log_price) # convert back to the stock price\n",
        "    return price\n",
        "\n",
        "# Run the simulation\n",
        "simulation_results = np.zeros((number_simulations, int(time_period*365)))\n",
        "for i in range(number_simulations):\n",
        "    simulation_results[i,:] = simulate_stock_price(stock_price, interest_rate, volatility, time_period)\n",
        "\n",
        "# Analyze the results\n",
        "mean_price = np.mean(simulation_results, axis=0)\n",
        "std_price = np.std(simulation_results, axis=0)\n",
        "percentile_5 = np.percentile(simulation_results, 5, axis=0)\n",
        "percentile_95 = np.percentile(simulation_results, 95, axis=0)\n",
        "\n",
        "# Visualize the results\n",
        "plt.figure()\n",
        "plt.plot(mean_price, label='Mean')\n",
        "plt.fill_between(range(int(time_period*365)), percentile_5, percentile_95, alpha=0.3, label='95% CI')\n",
        "plt.legend()\n",
        "plt.xlabel('Time (days)')\n",
        "plt.ylabel('Stock price')\n",
        "plt.title('Monte Carlo simulation of stock price')\n",
        "plt.show()\n",
        "\n",
        "# print results\n",
        "print(f'The mean price is {mean_price}')\n",
        "print(f'The stdev is {std_price}')\n"
      ],
      "metadata": {
        "colab": {
          "base_uri": "https://localhost:8080/",
          "height": 1000
        },
        "id": "k0wSzn2oMlZe",
        "outputId": "53c7075b-e8f5-4b18-e010-3e5f426f4065"
      },
      "execution_count": 82,
      "outputs": [
        {
          "output_type": "display_data",
          "data": {
            "text/plain": [
              "<Figure size 640x480 with 1 Axes>"
            ],
            "image/png": "[encoded data removed]"
          },
          "metadata": {}
        },
        {
          "output_type": "stream",
          "name": "stdout",
          "text": [
            "The mean price is [483.40087703 483.274829   483.3657971  483.35905727 483.36022869\n",
            " 483.40017929 483.41822643 483.46550311 483.36869604 483.45943542\n",
            " 483.55469981 483.6203412  483.82442592 483.78999376 483.82766834\n",
            " 483.92015273 483.99902444 484.13462923 484.24635903 484.17897666\n",
            " 484.29864298 484.32345959 484.37846648 484.52598253 484.58715644\n",
            " 484.71094058 484.77694587 484.74258878 484.85560877 484.93830124\n",
            " 484.94739107 484.9988772  485.15554241 485.25437151 485.36815291\n",
            " 485.39307047 485.39163871 485.52712295 485.72024705 485.76242365\n",
            " 485.8381312  485.9733605  485.9513     485.92171625 485.91271318\n",
            " 485.87796639 485.92581858 485.94885718 485.9715992  486.06975022\n",
            " 486.10281484 486.19144358 486.13668161 486.20819435 486.30290714\n",
            " 486.40051661 486.48005216 486.59907547 486.68769009 486.79060522\n",
            " 486.8724588  486.8744414  486.84517666 486.83984517 486.9135397\n",
            " 486.96595584 486.95811374 487.01141139 487.11177029 487.12240215\n",
            " 487.21108836 487.32685634 487.34857236 487.36602197 487.28987443\n",
            " 487.34422915 487.29847047 487.42301119 487.44351149 487.51998027\n",
            " 487.58187955 487.74400015 487.80720357 487.79522706 487.78353216\n",
            " 487.83679141 487.89017739 487.9716768  488.04699756 488.18718093\n",
            " 488.32081902 488.33203712 488.3763094  488.389186   488.50270402\n",
            " 488.52435956 488.52881503 488.58593814 488.67413347 488.91512716\n",
            " 489.04014554 489.02997047 489.04885626 489.14741491 489.17858048\n",
            " 489.3325499  489.38689829 489.44842847 489.51395865 489.53729118\n",
            " 489.74183731 489.82328014 489.89273451 490.02435495 490.04401259\n",
            " 490.10908537 490.23329992 490.33929906 490.50711301 490.55883912\n",
            " 490.57835018 490.66534236 490.76824373 490.819689   490.87383318\n",
            " 490.96426656 491.04807412 491.16828314 491.25263859 491.28884443\n",
            " 491.27518357 491.30366836 491.46494749 491.60578241 491.66844981\n",
            " 491.66506891 491.76253827 491.79015205 491.95648279 491.99268316\n",
            " 492.1262965  492.25997732 492.2296772  492.18915558 492.3627283\n",
            " 492.42792311 492.50276917 492.48010493 492.59004413 492.63096264\n",
            " 492.73979211 492.82190333 492.85827728 492.92285232 493.07043168\n",
            " 493.11841158 493.18763476 493.19548199 493.21760787 493.27436768\n",
            " 493.23284608 493.30775145 493.39227141 493.34202611 493.41196306\n",
            " 493.49863763 493.61755908 493.73590121 493.8338846  493.97482682\n",
            " 494.00766331 494.15682145 494.21097825 494.22075787 494.19543715\n",
            " 494.34706443 494.35342318 494.40323992 494.54989605 494.69032227\n",
            " 494.79071872 494.80031944 494.82432076 494.90868767 494.9627676\n",
            " 494.89715323 494.90320892 495.01282685 495.09297212 495.2836061\n",
            " 495.45636467 495.46063791 495.61870679 495.68829119 495.71819447\n",
            " 495.80314169 495.81673884 495.85319339 495.97831475 496.03300075\n",
            " 496.11266457 496.19278883 496.224849   496.35219007 496.4280935\n",
            " 496.62288692 496.80619127 496.82905329 496.81262271 497.00641264\n",
            " 496.94637314 497.08127974 497.1014501  497.227701   497.26091731\n",
            " 497.26546823 497.40268045 497.3990837  497.45522091 497.54328009\n",
            " 497.47767841 497.59508958 497.75389824 497.8943435  498.01869883\n",
            " 497.96284668 498.01711527 498.03748582 498.113729   498.16622786\n",
            " 498.23594746 498.43886611 498.35268594 498.31988588 498.3317961\n",
            " 498.52392684 498.59723721 498.53814827 498.56446422 498.57404431\n",
            " 498.62633948 498.67732316 498.8704472  499.00264158 499.08014407\n",
            " 499.1179357  499.17080361 499.24337621 499.25047774 499.31653277\n",
            " 499.46437686 499.54617703 499.58407412 499.55630925 499.60376754\n",
            " 499.75583343 499.82541781 500.05261361 500.10667054 500.17699611\n",
            " 500.20044211 500.25041774 500.34535325 500.31637304 500.38069208\n",
            " 500.34109851 500.41322343 500.52511213 500.55332467 500.62235967\n",
            " 500.65655962 500.76643165 500.75999905 500.81607288 501.0589549\n",
            " 501.07105463 501.14403698 501.14347762 501.16275055 501.21099721\n",
            " 501.22019615 501.34714081 501.43927865 501.5904692  501.72161978\n",
            " 501.81017044 501.84709698 501.92989558 502.01434273 502.04154073\n",
            " 502.03063457 502.07665398 502.18731663 502.17417724 502.24908593\n",
            " 502.30887774 502.37893305 502.50395079 502.61525064 502.62119431\n",
            " 502.70873622 502.97037042 502.98757541 503.00915055 503.22193781\n",
            " 503.26982642 503.276057   503.26540399 503.28099706 503.30007016\n",
            " 503.320335   503.30937877 503.46699413 503.62070851 503.57886356\n",
            " 503.64054071 503.75957703 503.83362372 503.88567283 503.98070532\n",
            " 504.01777643 503.98260558 503.9889671  503.99089566 504.18450643\n",
            " 504.23211324 504.31555602 504.33041044 504.36273432 504.52848649\n",
            " 504.57019236 504.72461342 504.84111959 505.04407179 505.18364519\n",
            " 505.29089098 505.40390962 505.36950847 505.47274502 505.57697384\n",
            " 505.66778098 505.76557037 505.83771453 505.98878857 506.00157099\n",
            " 506.11731861 506.24702904 506.30192487 506.35631029 506.41430085\n",
            " 506.50074835 506.59480937 506.79159255 506.78580702 506.81278846\n",
            " 506.85755222 506.95210839 507.01774608 507.05815154 507.02351157\n",
            " 507.06797682 507.17744164 507.24034721 507.36342962 507.48271635]\n",
            "The stdev is [ 2.11044256  2.97908116  3.61912627  4.26335068  4.64049422  5.06368502\n",
            "  5.49280827  5.94743801  6.33367583  6.64967315  6.94653569  7.26229671\n",
            "  7.61488922  7.91064084  8.20150204  8.46996847  8.71911314  9.04240915\n",
            "  9.31842276  9.55752428  9.75860473 10.00718792 10.21728943 10.4650692\n",
            " 10.74242501 10.88085705 11.03164373 11.17681255 11.44891752 11.52034217\n",
            " 11.66025335 11.98375738 12.23086656 12.44717337 12.5589397  12.80562737\n",
            " 13.08497855 13.17865252 13.34115481 13.52636537 13.67463183 13.87029649\n",
            " 14.1015542  14.20924041 14.33404628 14.42812712 14.51249951 14.75882956\n",
            " 14.89032284 14.95264522 15.08673554 15.39790479 15.55006994 15.78469798\n",
            " 15.90715512 16.0345325  16.14284224 16.32979738 16.53142641 16.5363414\n",
            " 16.65568395 16.9404592  17.05452468 17.25624445 17.44531048 17.67612527\n",
            " 17.92688671 18.04533733 18.2227533  18.33023636 18.46959245 18.68982262\n",
            " 18.79000413 18.8070624  18.92682815 18.98537283 19.11473136 19.2183181\n",
            " 19.39006634 19.40835201 19.56809381 19.68448764 19.73047709 19.79981058\n",
            " 19.9813271  20.11376899 20.26324802 20.37865539 20.44044439 20.51243508\n",
            " 20.55932382 20.6371041  20.79252656 20.93769298 20.90303623 21.05684469\n",
            " 21.12082761 21.40062293 21.46735153 21.55678776 21.62911647 21.69600615\n",
            " 21.73560529 21.88780578 22.01048653 21.95967479 22.02316701 22.29104574\n",
            " 22.36958019 22.51288607 22.56518019 22.71333279 22.69520556 22.72450334\n",
            " 22.93296638 23.01016418 23.08336081 23.30834065 23.43586493 23.49593246\n",
            " 23.49745762 23.61458883 23.67729985 23.69062572 23.94383032 24.0550825\n",
            " 24.14880296 24.31416159 24.19640295 24.41939418 24.56461671 24.66345878\n",
            " 24.76261657 24.75370291 24.89777607 24.9311436  24.98693249 25.19713891\n",
            " 25.32378215 25.49967562 25.53305265 25.72768221 25.92472367 25.93697821\n",
            " 25.99845647 26.08822565 26.21471852 26.22040168 26.30780691 26.37777134\n",
            " 26.57324013 26.57787939 26.73174416 26.75355947 26.9503894  27.0492694\n",
            " 27.09740349 27.23279236 27.32329889 27.39760214 27.60638222 27.66693625\n",
            " 27.73885802 27.75972267 27.64433493 27.76196552 27.79139709 27.89066975\n",
            " 28.0933515  28.13271546 28.27135824 28.43532146 28.46256823 28.44861859\n",
            " 28.47333012 28.53397172 28.58759193 28.55171173 28.56830834 28.83984944\n",
            " 28.99322601 29.05641557 29.01415371 29.13630103 29.16122685 29.17685387\n",
            " 29.32014012 29.34130348 29.48035775 29.6216302  29.70200418 29.67628646\n",
            " 29.8476963  30.01557203 29.95391711 29.96529324 30.11282658 30.16530624\n",
            " 30.25236817 30.40178586 30.59869852 30.6372362  30.74124507 30.87903936\n",
            " 31.07308052 31.11900296 31.20924637 31.31653655 31.3776097  31.41671131\n",
            " 31.36288218 31.50085409 31.60789972 31.86800808 32.00062126 32.06579205\n",
            " 32.1655008  32.22070752 32.26415716 32.35542177 32.34972358 32.42087921\n",
            " 32.50566627 32.50290035 32.61319156 32.69973354 32.78719559 32.91503635\n",
            " 32.97951985 32.94253182 33.00943617 33.1724521  33.28353568 33.47265317\n",
            " 33.47211137 33.50528243 33.60168506 33.64837977 33.87179654 33.88346103\n",
            " 33.96327499 33.95171229 34.06136651 34.16798915 34.21684188 34.31509773\n",
            " 34.52981479 34.57379061 34.7155742  34.76877255 34.85087971 34.85647711\n",
            " 34.93938959 34.99044481 34.90123357 35.01666012 35.03228003 35.13995046\n",
            " 35.28312799 35.40520062 35.36208863 35.29422823 35.34987486 35.45935552\n",
            " 35.59929958 35.62243451 35.65352034 35.62531285 35.66149216 35.69906873\n",
            " 35.72515708 35.87286607 35.83248457 35.83532362 35.91987039 35.94499063\n",
            " 35.9536508  36.04924536 35.98588596 36.05194151 36.09729958 36.12683794\n",
            " 36.21953902 36.26009603 36.22796251 36.33144756 36.51322465 36.630746\n",
            " 36.7764074  36.82168265 36.9185945  36.97895036 36.94672695 37.01424781\n",
            " 36.9316773  36.94449349 36.91742604 36.80925913 36.94537169 37.11931482\n",
            " 37.32921488 37.49892228 37.63625039 37.75908919 37.98758115 38.06593604\n",
            " 38.12326796 38.24805619 38.33093136 38.34987729 38.39514392 38.41257001\n",
            " 38.41250487 38.45329749 38.64667517 38.81221191 38.90141438 39.04341843\n",
            " 39.04392372 39.169153   39.1918505  39.23982701 39.28412999 39.25062676\n",
            " 39.36863763 39.52526394 39.59624422 39.68221641 39.66826557 39.7692466\n",
            " 39.78663453 39.75348425 39.91953922 39.85924547 39.98648612 40.1082079\n",
            " 40.1889506  40.17786908 40.15967798 40.18322907 40.24536004 40.28270259\n",
            " 40.51553612 40.5792017  40.7531551  40.84014994 40.99092134 41.06484478\n",
            " 41.10929263 41.16655487 41.20277715 41.26298309 41.31774394 41.35064237\n",
            " 41.46177034 41.43372841 41.52111971 41.68834116 41.73428868 41.78791748\n",
            " 41.8171129  41.86189824 41.99164432 42.05962453 42.05902064]\n"
          ]
        }
      ]
    },
    {
      "cell_type": "code",
      "source": [
        "len(simulation_results)"
      ],
      "metadata": {
        "colab": {
          "base_uri": "https://localhost:8080/"
        },
        "id": "4ps07zIFKyc7",
        "outputId": "ca1aba7f-adb0-4af8-f261-d7a733d54e05"
      },
      "execution_count": 83,
      "outputs": [
        {
          "output_type": "execute_result",
          "data": {
            "text/plain": [
              "1000"
            ]
          },
          "metadata": {},
          "execution_count": 83
        }
      ]
    },
    {
      "cell_type": "code",
      "source": [
        "len(mean_price)\n",
        "mean_price[-1]"
      ],
      "metadata": {
        "colab": {
          "base_uri": "https://localhost:8080/"
        },
        "id": "IMKnIc0NK7wD",
        "outputId": "14eb04fc-b13f-4284-ae32-8ded09ebd303"
      },
      "execution_count": 84,
      "outputs": [
        {
          "output_type": "execute_result",
          "data": {
            "text/plain": [
              "507.48271634647836"
            ]
          },
          "metadata": {},
          "execution_count": 84
        }
      ]
    },
    {
      "cell_type": "code",
      "source": [
        "owned_shares = starting_capital/stock_price\n",
        "profit = owned_shares * (mean_price[-1] - mean_price[0])\n",
        "\n",
        "(profit/starting_capital) * 100"
      ],
      "metadata": {
        "colab": {
          "base_uri": "https://localhost:8080/"
        },
        "id": "42DVB5Vrx7XB",
        "outputId": "00b44831-15ab-436e-c0c5-fb3749aab6f9"
      },
      "execution_count": 85,
      "outputs": [
        {
          "output_type": "execute_result",
          "data": {
            "text/plain": [
              "4.981286322995342"
            ]
          },
          "metadata": {},
          "execution_count": 85
        }
      ]
    },
    {
      "cell_type": "code",
      "source": [
        "#plotting simulated returns\n",
        "sim_returns = np.log(simulation_results)\n",
        "\n",
        "sns.distplot([sim_returns])\n",
        "plt.xlabel(\"Daily Return\")\n",
        "plt.ylabel(\"Frequency\")"
      ],
      "metadata": {
        "colab": {
          "base_uri": "https://localhost:8080/",
          "height": 657
        },
        "id": "PRulfm5Wa0aa",
        "outputId": "f583d2e5-0fe1-4ef3-9f05-78acedad4f78"
      },
      "execution_count": 86,
      "outputs": [
        {
          "output_type": "stream",
          "name": "stderr",
          "text": [
            "<ipython-input-86-ed8274168456>:4: UserWarning: \n",
            "\n",
            "`distplot` is a deprecated function and will be removed in seaborn v0.14.0.\n",
            "\n",
            "Please adapt your code to use either `displot` (a figure-level function with\n",
            "similar flexibility) or `histplot` (an axes-level function for histograms).\n",
            "\n",
            "For a guide to updating your code to use the new functions, please see\n",
            "https://gist.github.com/mwaskom/de44147ed2974457ad6372750bbe5751\n",
            "\n",
            "  sns.distplot([sim_returns])\n"
          ]
        },
        {
          "output_type": "execute_result",
          "data": {
            "text/plain": [
              "Text(0, 0.5, 'Frequency')"
            ]
          },
          "metadata": {},
          "execution_count": 86
        },
        {
          "output_type": "display_data",
          "data": {
            "text/plain": [
              "<Figure size 640x480 with 1 Axes>"
            ],
            "image/png": "[encoded data removed]"
          },
          "metadata": {}
        }
      ]
    },
    {
      "cell_type": "code",
      "source": [
        "#plotting simulated returns, raw\n",
        "sim_returns = simulation_results\n",
        "\n",
        "sns.distplot([sim_returns])\n",
        "plt.xlabel(\"Daily Return\")\n",
        "plt.ylabel(\"Frequency\")"
      ],
      "metadata": {
        "colab": {
          "base_uri": "https://localhost:8080/",
          "height": 657
        },
        "id": "-jiJlh-_qglF",
        "outputId": "201eb3dd-ef9f-4941-f29a-9596d596c131"
      },
      "execution_count": 87,
      "outputs": [
        {
          "output_type": "stream",
          "name": "stderr",
          "text": [
            "<ipython-input-87-26fab35b47aa>:4: UserWarning: \n",
            "\n",
            "`distplot` is a deprecated function and will be removed in seaborn v0.14.0.\n",
            "\n",
            "Please adapt your code to use either `displot` (a figure-level function with\n",
            "similar flexibility) or `histplot` (an axes-level function for histograms).\n",
            "\n",
            "For a guide to updating your code to use the new functions, please see\n",
            "https://gist.github.com/mwaskom/de44147ed2974457ad6372750bbe5751\n",
            "\n",
            "  sns.distplot([sim_returns])\n"
          ]
        },
        {
          "output_type": "execute_result",
          "data": {
            "text/plain": [
              "Text(0, 0.5, 'Frequency')"
            ]
          },
          "metadata": {},
          "execution_count": 87
        },
        {
          "output_type": "display_data",
          "data": {
            "text/plain": [
              "<Figure size 640x480 with 1 Axes>"
            ],
            "image/png": "[encoded data removed]"
          },
          "metadata": {}
        }
      ]
    },
    {
      "cell_type": "code",
      "source": [
        "# Get average value of stock price on 365th day\n",
        "end_price = []\n",
        "for sim in simulation_results:\n",
        "  end_price.append(sim[-1])\n",
        "\n",
        "np.mean(end_price)"
      ],
      "metadata": {
        "colab": {
          "base_uri": "https://localhost:8080/"
        },
        "id": "10mnM_XuppRW",
        "outputId": "76cc7d7d-a9c0-4110-8917-e0f4d57592e7"
      },
      "execution_count": 88,
      "outputs": [
        {
          "output_type": "execute_result",
          "data": {
            "text/plain": [
              "507.4827163464783"
            ]
          },
          "metadata": {},
          "execution_count": 88
        }
      ]
    },
    {
      "cell_type": "code",
      "source": [
        "len(simulation_results)"
      ],
      "metadata": {
        "colab": {
          "base_uri": "https://localhost:8080/"
        },
        "id": "kzCcvt3RE_j8",
        "outputId": "9c4aad32-c92d-4cfd-e11b-02a3ec15678e"
      },
      "execution_count": 89,
      "outputs": [
        {
          "output_type": "execute_result",
          "data": {
            "text/plain": [
              "1000"
            ]
          },
          "metadata": {},
          "execution_count": 89
        }
      ]
    },
    {
      "cell_type": "code",
      "source": [
        "simulation_results[0]"
      ],
      "metadata": {
        "id": "JwsNampk0raT",
        "outputId": "212313d8-bca2-45ce-e019-2947467725ae",
        "colab": {
          "base_uri": "https://localhost:8080/"
        }
      },
      "execution_count": 90,
      "outputs": [
        {
          "output_type": "execute_result",
          "data": {
            "text/plain": [
              "array([483.67679796, 486.54469995, 486.72217857, 489.0915223 ,\n",
              "       487.88088747, 489.29279368, 489.67542944, 486.93024109,\n",
              "       485.68799397, 485.98531095, 487.16113323, 485.77539323,\n",
              "       486.78739823, 487.48085423, 486.77078969, 488.34285127,\n",
              "       485.338733  , 484.82984003, 484.39109865, 484.16567106,\n",
              "       480.81202964, 481.73964224, 478.07256419, 477.67343175,\n",
              "       473.89783626, 475.31656507, 475.21714508, 476.81796562,\n",
              "       478.49826897, 480.09587475, 481.47781123, 485.28461183,\n",
              "       486.22864671, 489.98972773, 487.87655594, 486.94504534,\n",
              "       487.79380209, 489.65609387, 492.07798323, 491.80803106,\n",
              "       493.20346815, 491.07407977, 494.24839319, 497.77517871,\n",
              "       500.92444316, 499.67117455, 501.54701203, 499.87383194,\n",
              "       503.20640856, 504.91411051, 505.930229  , 506.06760954,\n",
              "       506.41949288, 501.55465577, 497.67872043, 495.64817917,\n",
              "       496.24810856, 498.78669293, 500.00792643, 501.02906341,\n",
              "       500.19703968, 502.40124975, 505.27574661, 503.69281842,\n",
              "       502.54563074, 500.69607775, 499.93162454, 498.29237487,\n",
              "       502.4674371 , 502.55633964, 503.66329731, 503.11639998,\n",
              "       504.69463617, 506.59988976, 506.36079149, 507.21664384,\n",
              "       506.96879527, 506.94056418, 506.65176909, 507.61481395,\n",
              "       504.25600757, 506.06295956, 506.13880914, 506.1746752 ,\n",
              "       507.73418012, 508.7804018 , 509.64010505, 512.21812137,\n",
              "       512.9555529 , 515.0956422 , 513.633818  , 514.41851399,\n",
              "       512.30299154, 509.83909654, 509.95358554, 513.18905197,\n",
              "       516.0335657 , 513.46794646, 512.33587202, 509.58913128,\n",
              "       510.24306431, 509.33385139, 508.30217542, 510.72671338,\n",
              "       509.81937987, 514.1520986 , 513.08801903, 511.72720956,\n",
              "       511.36843647, 507.66353587, 509.46684582, 509.58383392,\n",
              "       508.59966311, 507.49382462, 502.59479245, 502.26096499,\n",
              "       504.76645204, 506.59979303, 504.50590768, 505.41318681,\n",
              "       508.52142695, 507.33218849, 504.74216755, 502.02469763,\n",
              "       503.80056206, 504.39706795, 505.6759197 , 507.75654628,\n",
              "       504.84791365, 502.99810379, 503.59274802, 504.09917873,\n",
              "       504.73213908, 505.45103163, 505.67830999, 503.1760836 ,\n",
              "       503.27154973, 505.73083832, 506.17620827, 506.04937963,\n",
              "       506.98724229, 506.94819264, 502.87531414, 502.87591901,\n",
              "       504.81916046, 506.23205391, 507.81869568, 508.75531305,\n",
              "       506.58365866, 506.40617786, 505.32506393, 505.61319466,\n",
              "       509.9235512 , 513.99684177, 514.93267764, 516.66600968,\n",
              "       516.54905597, 515.79342991, 519.86370538, 525.05018088,\n",
              "       528.19529469, 528.40006067, 528.33216109, 528.47049294,\n",
              "       527.47235428, 526.39285462, 529.11499759, 532.09802543,\n",
              "       530.55062173, 533.65469522, 535.36533573, 536.64964057,\n",
              "       535.43365825, 538.42825862, 538.92441053, 539.8217944 ,\n",
              "       542.56938897, 541.89543393, 543.52903154, 547.32799005,\n",
              "       546.65622355, 545.48674871, 551.26132237, 553.74854396,\n",
              "       555.55052249, 553.94607614, 554.76574993, 554.86749362,\n",
              "       555.17105975, 551.96925217, 553.46312805, 550.03840833,\n",
              "       550.39617392, 547.65572564, 545.22205302, 544.23834727,\n",
              "       543.78657263, 546.6573478 , 550.9302005 , 548.08307214,\n",
              "       544.7904673 , 547.29732555, 548.01027933, 546.56281895,\n",
              "       548.00043286, 550.63144705, 552.55839999, 551.46615658,\n",
              "       553.45931545, 553.89832804, 556.9156417 , 555.05140542,\n",
              "       556.50603482, 557.19453547, 561.00757458, 561.94414527,\n",
              "       560.8316474 , 562.76868511, 562.63438228, 559.56641554,\n",
              "       560.40350749, 561.0786279 , 561.46180036, 557.64433849,\n",
              "       557.52146475, 557.36642073, 559.73652143, 564.65526366,\n",
              "       567.02216432, 567.18849853, 567.3855311 , 563.09678305,\n",
              "       561.19429941, 563.31296111, 566.54324528, 565.94205667,\n",
              "       565.15700592, 561.4479587 , 563.75327172, 563.28041803,\n",
              "       560.20302553, 559.87817359, 560.77591816, 562.26708214,\n",
              "       564.36507133, 568.70572081, 572.51217894, 574.64722883,\n",
              "       577.10888488, 581.24666736, 581.66754168, 577.77018915,\n",
              "       579.64681264, 582.07293547, 582.27495173, 582.2916799 ,\n",
              "       582.01124234, 580.25654249, 580.83385965, 579.32961132,\n",
              "       580.40321129, 581.86989033, 583.40219446, 582.11222267,\n",
              "       579.66212766, 579.12126295, 584.47187218, 579.72033981,\n",
              "       580.25009015, 574.5372204 , 574.1296651 , 573.20388816,\n",
              "       572.62345607, 571.52695095, 571.58803822, 571.42747406,\n",
              "       571.94621027, 576.009793  , 578.38753974, 577.11090873,\n",
              "       576.39131383, 579.43343071, 580.59021134, 579.04358979,\n",
              "       583.61265799, 585.92275416, 584.76537122, 583.65065036,\n",
              "       582.57314126, 581.57719088, 584.48435263, 587.02311247,\n",
              "       581.28198353, 583.5124612 , 581.93760281, 582.54926245,\n",
              "       582.12937264, 583.92227725, 589.14563248, 588.94148431,\n",
              "       591.91870806, 590.50960182, 593.16023994, 597.68297895,\n",
              "       596.49824572, 595.73599964, 590.63896691, 588.08986744,\n",
              "       589.02437607, 587.03332575, 586.19616561, 584.43435276,\n",
              "       581.73642257, 583.80774022, 585.77612726, 581.0447322 ,\n",
              "       579.99664547, 580.16376996, 576.9947268 , 574.51691399,\n",
              "       573.77853545, 575.7343465 , 578.8707228 , 574.61004556,\n",
              "       575.83012976, 572.34053396, 570.96770113, 571.98930739,\n",
              "       569.6596716 , 567.14689046, 568.87210655, 566.16400215,\n",
              "       570.12564902, 567.95728243, 563.25022748, 563.01296552,\n",
              "       561.30122452, 559.85355009, 556.28559121, 556.49196756,\n",
              "       556.18497449, 552.08060671, 553.57266717, 557.01403887,\n",
              "       556.6839918 , 555.81439194, 556.67362294, 554.30594819,\n",
              "       552.17253519, 555.71197858, 552.30982998, 557.56615272,\n",
              "       556.09540782, 557.51325295, 557.47899189, 554.92602975,\n",
              "       555.18313412, 553.29741481, 556.36403765, 556.3240361 ,\n",
              "       557.19704651, 557.16731767, 558.0502878 , 559.03552768,\n",
              "       555.92346997])"
            ]
          },
          "metadata": {},
          "execution_count": 90
        }
      ]
    },
    {
      "cell_type": "code",
      "source": [
        "average_price = [np.mean(price) for price in simulation_results]"
      ],
      "metadata": {
        "id": "kGuE7ROPF8Ak"
      },
      "execution_count": 91,
      "outputs": []
    },
    {
      "cell_type": "code",
      "source": [
        "len(simulation_results)"
      ],
      "metadata": {
        "colab": {
          "base_uri": "https://localhost:8080/"
        },
        "id": "VaaRobpsMm4a",
        "outputId": "d87f8e59-d528-460f-ad15-fba9f0c91301"
      },
      "execution_count": 92,
      "outputs": [
        {
          "output_type": "execute_result",
          "data": {
            "text/plain": [
              "1000"
            ]
          },
          "metadata": {},
          "execution_count": 92
        }
      ]
    },
    {
      "cell_type": "code",
      "source": [
        "#plotting simulated returns, raw\n",
        "sell_price = []\n",
        "owned_shares = starting_capital / stock_price\n",
        "for simulation in simulation_results:\n",
        "  sell_price.append({'Dollar Return':(simulation[-1] - stock_price)*owned_shares,\n",
        "                     'Percent Return':((simulation[-1]/stock_price)-1)})\n",
        "\n",
        "\n",
        "df_sell_price = pd.DataFrame(sell_price)\n",
        "sns.histplot(df_sell_price['Dollar Return'])\n",
        "plt.xlabel(\"Final Return\")\n",
        "plt.ylabel(\"Frequency\")"
      ],
      "metadata": {
        "id": "FnpatW9d0eii",
        "outputId": "249557a8-d61d-474c-ba38-b5bf798961d1",
        "colab": {
          "base_uri": "https://localhost:8080/",
          "height": 466
        }
      },
      "execution_count": 93,
      "outputs": [
        {
          "output_type": "execute_result",
          "data": {
            "text/plain": [
              "Text(0, 0.5, 'Frequency')"
            ]
          },
          "metadata": {},
          "execution_count": 93
        },
        {
          "output_type": "display_data",
          "data": {
            "text/plain": [
              "<Figure size 640x480 with 1 Axes>"
            ],
            "image/png": "[encoded data removed]"
          },
          "metadata": {}
        }
      ]
    },
    {
      "cell_type": "markdown",
      "source": [
        "# Evaluating options via chance of profit/loss"
      ],
      "metadata": {
        "id": "AuwxDMjbBQWM"
      }
    },
    {
      "cell_type": "code",
      "source": [
        "chance_of_profit = len(df_sell_price[df_sell_price['Percent Return'] > 0])/1000\n",
        "chance_of_profit\n",
        "chance_of_loss = 1-chance_of_profit"
      ],
      "metadata": {
        "id": "zwVbLevF__yl"
      },
      "execution_count": 94,
      "outputs": []
    },
    {
      "cell_type": "code",
      "source": [
        "chance_of_profit"
      ],
      "metadata": {
        "id": "GGEggipFAdbK",
        "outputId": "32d0d989-9a4c-4a91-cfd0-9ab390e0ba15",
        "colab": {
          "base_uri": "https://localhost:8080/"
        }
      },
      "execution_count": 95,
      "outputs": [
        {
          "output_type": "execute_result",
          "data": {
            "text/plain": [
              "0.712"
            ]
          },
          "metadata": {},
          "execution_count": 95
        }
      ]
    },
    {
      "cell_type": "code",
      "source": [
        "#custom_palette = sns.set_palette(sns.color_palette([\"#7F0000\"])) # red\n",
        "custom_palette = sns.set_palette(sns.color_palette([\"#008000\"])) # green\n",
        "sns.histplot(df_sell_price['Percent Return'])\n",
        "plt.xlabel(\"Final Return\")\n",
        "plt.ylabel(\"Frequency\")\n"
      ],
      "metadata": {
        "id": "DJg6Yl9X_S0q",
        "outputId": "a9c61841-62f5-44af-c860-f89ab846fe72",
        "colab": {
          "base_uri": "https://localhost:8080/",
          "height": 466
        }
      },
      "execution_count": 96,
      "outputs": [
        {
          "output_type": "execute_result",
          "data": {
            "text/plain": [
              "Text(0, 0.5, 'Frequency')"
            ]
          },
          "metadata": {},
          "execution_count": 96
        },
        {
          "output_type": "display_data",
          "data": {
            "text/plain": [
              "<Figure size 640x480 with 1 Axes>"
            ],
            "image/png": "[encoded data removed]"
          },
          "metadata": {}
        }
      ]
    },
    {
      "cell_type": "code",
      "source": [
        "np.mean(df_sell_price['Dollar Return'])"
      ],
      "metadata": {
        "id": "XjFcXEh65dSr",
        "outputId": "61e66b29-9100-4449-a6a5-6db9e462454c",
        "colab": {
          "base_uri": "https://localhost:8080/"
        }
      },
      "execution_count": 97,
      "outputs": [
        {
          "output_type": "execute_result",
          "data": {
            "text/plain": [
              "497.1911861242255"
            ]
          },
          "metadata": {},
          "execution_count": 97
        }
      ]
    },
    {
      "cell_type": "code",
      "source": [
        "desired_returns = [0.05, 0.1, 0.15, 0.2, 0.25, 0.3, 0.35, 0.4, 0.45, 0.5]  # desired return percentages\n",
        "\n",
        "starting_price = stock_price\n",
        "\n",
        "# Plot the percentage change of making the above percent returns\n",
        "results = []\n",
        "for i in desired_returns:\n",
        "  chance_of_profit = len(df_sell_price[df_sell_price['Percent Return'] > i])/1000\n",
        "    #count = sum(price >= final_price for price in simulation_results)\n",
        "  results.append({'Desired Return': i, 'Probability': chance_of_profit})\n",
        "\n",
        "df = pd.DataFrame(results)\n",
        "print(df)\n",
        "sns.barplot(x='Desired Return', y='Probability', data=df)\n"
      ],
      "metadata": {
        "colab": {
          "base_uri": "https://localhost:8080/",
          "height": 657
        },
        "id": "CPQEGyyQhe6m",
        "outputId": "52187c9b-f169-4a40-a002-b3f53409f0f9"
      },
      "execution_count": 98,
      "outputs": [
        {
          "output_type": "stream",
          "name": "stdout",
          "text": [
            "   Desired Return  Probability\n",
            "0            0.05        0.471\n",
            "1            0.10        0.266\n",
            "2            0.15        0.131\n",
            "3            0.20        0.053\n",
            "4            0.25        0.019\n",
            "5            0.30        0.006\n",
            "6            0.35        0.000\n",
            "7            0.40        0.000\n",
            "8            0.45        0.000\n",
            "9            0.50        0.000\n"
          ]
        },
        {
          "output_type": "execute_result",
          "data": {
            "text/plain": [
              "<Axes: xlabel='Desired Return', ylabel='Probability'>"
            ]
          },
          "metadata": {},
          "execution_count": 98
        },
        {
          "output_type": "display_data",
          "data": {
            "text/plain": [
              "<Figure size 640x480 with 1 Axes>"
            ],
            "image/png": "[encoded data removed]"
          },
          "metadata": {}
        }
      ]
    },
    {
      "cell_type": "markdown",
      "source": [
        "# Let's review Steve's options:\n",
        "\n",
        "He has $10,000 and initially wants to invest it in Amazon. Let's assume he can't buy partial shares. \n",
        "\n",
        "The remainder of his money that isn't used to buy stocks will sit in a savings account, earning an interest of 1%.\n",
        "\n",
        "1. We have the starting price in 2019 and the ending price in 2019. Can we assess how close to reality the average simulated ending price was?\n",
        "\n",
        "2. Next, can we pass in a new starting price for 2022 and see what we could expect in 2023?\n",
        "\n",
        "3. Then let's see how many shares Steve can buy, and how many dollars he can actually expect to receive if he **sells one year later.**\n",
        "\n",
        "4. Let's compare this to how much we would make if he bought a stock that tracked the S&P500 (Ticker: `'VOO'`)\n",
        "\n",
        "5. We can stop here OR we can diversify his portfolio in a 25% split - $2,500 for four stocks"
      ],
      "metadata": {
        "id": "BCj7ChAr6zqZ"
      }
    }
  ]
}